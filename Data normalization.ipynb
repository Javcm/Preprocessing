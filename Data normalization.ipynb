{
 "cells": [
  {
   "cell_type": "code",
   "execution_count": 32,
   "metadata": {},
   "outputs": [],
   "source": [
    "import numpy as np\n",
    "from sklearn import preprocessing as pp\n",
    "from sklearn import datasets as ds \n",
    "from sklearn.neighbors import KNeighborsClassifier as KNCfrom sklearn.model_selection import StratifiedKFold\n"
   ]
  },
  {
   "cell_type": "code",
   "execution_count": 73,
   "metadata": {},
   "outputs": [
    {
     "name": "stdout",
     "output_type": "stream",
     "text": [
      "***Fold 1***\n",
      "Train\n",
      "Performance original 0.8063380281690141\n",
      "Performance max_min 0.3732394366197183\n",
      "Performance z-score 0.3732394366197183\n",
      "Performance robust 0.3732394366197183\n",
      "Test\n",
      "Performance original 0.7333333333333333\n",
      "Performance max_min 0.9157894736842105\n",
      "Performance z-score 0.9052631578947369\n",
      "Performance robust 0.9578947368421052\n",
      "***Fold 2***\n",
      "Train\n",
      "Performance original 0.8070175438596491\n",
      "Performance max_min 0.6280701754385964\n",
      "Performance z-score 0.6280701754385964\n",
      "Performance robust 0.6280701754385964\n",
      "Test\n",
      "Performance original 0.6690140845070423\n",
      "Performance max_min 0.9683098591549296\n",
      "Performance z-score 0.9647887323943662\n",
      "Performance robust 0.9683098591549296\n"
     ]
    }
   ],
   "source": [
    "df = ds.load_breast_cancer()\n",
    "X,y = df.data, df.target\n",
    "\n",
    "#Escalando para probar el efecto de escalar\n",
    "X[:,1] = 10*X[:,1]\n",
    "X[:,3] = 1000*X[:,1]\n",
    "X[-1,:] = 1000*X[-1,:]\n",
    "\n",
    "skf = StratifiedKFold(n_splits=2)\n",
    "fold=0\n",
    "n=5\n",
    "\n",
    "for idx_train, idx_test in skf.split(X,y):\n",
    "    fold +=1\n",
    "    X_train, X_test = X[idx_train], X[idx_test]\n",
    "    y_train, y_test = y[idx_train], y[idx_test]\n",
    "    \n",
    "    modelo_original = KNC(n_neighbors=n)\n",
    "    modelo_maxmin = KNC(n_neighbors=n)\n",
    "    modelo_standar = KNC(n_neighbors=n)\n",
    "    modelo_robust = KNC(n_neighbors=n)\n",
    "    \n",
    "    maxmin_normalization = pp.MinMaxScaler().fit(X_train)\n",
    "    z_normalization = pp.StandardScaler().fit(X_train)\n",
    "    robust_normalization = pp.RobustScaler().fit(X_train)\n",
    "    \n",
    "    \n",
    "    X_train_maxmin = maxmin_normalization.transform(X_train)\n",
    "    X_test_maxmin = maxmin_normalization.transform(X_test)\n",
    "    \n",
    "    X_train_stdsc = z_normalization.transform(X_train)\n",
    "    X_test_stdsc = z_normalization.transform(X_test)\n",
    "    \n",
    "    X_train_robust = robust_normalization.transform(X_train)\n",
    "    X_test_robust = robust_normalization.transform(X_test)\n",
    "\n",
    "    \n",
    "    modelo_original.fit(X_train,y_train)\n",
    "    modelo_maxmin.fit(X_train_maxmin,y_train)\n",
    "    modelo_standar.fit(X_train_stdsc,y_train)\n",
    "    modelo_robust.fit(X_train_robust,y_train)\n",
    "    \n",
    "    score_original = modelo_original.score(X_test,y_test)\n",
    "    score_maxmin = modelo_maxmin.score(X_test_maxmin,y_test)\n",
    "    score_standar = modelo_standar.score(X_test_stdsc,y_test)\n",
    "    score_robust = modelo_robust.score(X_test_robust,y_test)\n",
    "    \n",
    "    print(f\"***Fold {fold}***\")\n",
    "    print(\"Train\")\n",
    "    print(f\"Performance original {modelo_original.score(X_train,y_train)}\")\n",
    "    print(f\"Performance max_min {modelo_maxmin.score(X_train,y_train)}\")\n",
    "    print(f\"Performance z-score {modelo_standar.score(X_train,y_train)}\")\n",
    "    print(f\"Performance robust {modelo_robust.score(X_train,y_train)}\")\n",
    "    print(\"Test\")\n",
    "    print(f\"Performance original {score_original}\")\n",
    "    print(f\"Performance max_min {score_maxmin}\")\n",
    "    print(f\"Performance z-score {score_standar}\")\n",
    "    print(f\"Performance robust {score_robust}\")"
   ]
  },
  {
   "cell_type": "code",
   "execution_count": 102,
   "metadata": {},
   "outputs": [
    {
     "data": {
      "text/plain": [
       "array([[5477.9835854 , 5477.9835854 , 5477.9835854 , ..., 5477.9835854 ,\n",
       "        5477.9835854 , 5477.9835854 ],\n",
       "       [5087.9304936 , 5087.9304936 , 5087.9304936 , ..., 5087.9304936 ,\n",
       "        5087.9304936 , 5087.9304936 ],\n",
       "       [5980.96540427, 5980.96540427, 5980.96540427, ..., 5980.96540427,\n",
       "        5980.96540427, 5980.96540427],\n",
       "       ...,\n",
       "       [5498.0879687 , 5498.0879687 , 5498.0879687 , ..., 5498.0879687 ,\n",
       "        5498.0879687 , 5498.0879687 ],\n",
       "       [5994.36610347, 5994.36610347, 5994.36610347, ..., 5994.36610347,\n",
       "        5994.36610347, 5994.36610347],\n",
       "       [4947.0419488 , 4947.0419488 , 4947.0419488 , ..., 4947.0419488 ,\n",
       "        4947.0419488 , 4947.0419488 ]])"
      ]
     },
     "execution_count": 102,
     "metadata": {},
     "output_type": "execute_result"
    }
   ],
   "source": [
    "def quantile_normalization(X):\n",
    "    X_copy = np.copy(X)\n",
    "    indexes_list=[]\n",
    "    for feature in range(X.shape[1]):\n",
    "        indexes = np.argsort(X[:,feature])\n",
    "        sorted_ = np.sort(X[:,feature])\n",
    "        X_copy[:,feature] = sorted_\n",
    "        indexes_list.append(indexes)\n",
    "    means = np.mean(X_copy,axis=1)\n",
    "    X_copy = np.multiply(means[:,None],np.ones(X_copy.shape))\n",
    "    \n",
    "    for feature in range(X.shape[1]):\n",
    "        indexes = indexes_list[0]\n",
    "        X_copy[indexes,feature] = X_copy[:,feature]\n",
    "    \n",
    "    return(X_copy)\n",
    "quantile_normalization(X_train)"
   ]
  },
  {
   "cell_type": "code",
   "execution_count": null,
   "metadata": {},
   "outputs": [],
   "source": []
  },
  {
   "cell_type": "code",
   "execution_count": null,
   "metadata": {},
   "outputs": [],
   "source": []
  }
 ],
 "metadata": {
  "kernelspec": {
   "display_name": "Python 3",
   "language": "python",
   "name": "python3"
  },
  "language_info": {
   "codemirror_mode": {
    "name": "ipython",
    "version": 3
   },
   "file_extension": ".py",
   "mimetype": "text/x-python",
   "name": "python",
   "nbconvert_exporter": "python",
   "pygments_lexer": "ipython3",
   "version": "3.7.4"
  }
 },
 "nbformat": 4,
 "nbformat_minor": 2
}
